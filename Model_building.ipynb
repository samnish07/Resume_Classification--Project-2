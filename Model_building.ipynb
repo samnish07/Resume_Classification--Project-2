{
 "cells": [
  {
   "cell_type": "markdown",
   "id": "a5e9a0ce",
   "metadata": {},
   "source": [
    "### <font color='purple'><b>Importing libraries :"
   ]
  },
  {
   "cell_type": "code",
   "execution_count": 1,
   "id": "011a18d9",
   "metadata": {},
   "outputs": [],
   "source": [
    "import pandas as pd\n",
    "from sklearn.model_selection import train_test_split\n",
    "from sklearn.feature_extraction.text import TfidfVectorizer\n",
    "from sklearn.multiclass import OneVsRestClassifier\n",
    "from sklearn.preprocessing import LabelBinarizer\n",
    "from sklearn.preprocessing import LabelEncoder\n",
    "from sklearn.metrics import f1_score,precision_score,confusion_matrix,recall_score,accuracy_score,classification_report\n",
    "from sklearn.metrics import RocCurveDisplay,precision_recall_curve,roc_curve, auc\n",
    "from sklearn.svm import SVC\n",
    "from sklearn.naive_bayes import MultinomialNB\n",
    "from sklearn.ensemble import RandomForestClassifier\n",
    "from sklearn.tree import DecisionTreeClassifier\n",
    "from sklearn.ensemble import AdaBoostClassifier,GradientBoostingClassifier\n",
    "from xgboost import XGBClassifier\n",
    "from lightgbm import LGBMClassifier\n",
    "from collections import Counter\n",
    "import pickle\n",
    "import numpy as np\n",
    "import seaborn as sns\n",
    "import matplotlib.pyplot as plt\n",
    "import warnings\n",
    "warnings.filterwarnings('ignore')"
   ]
  },
  {
   "cell_type": "markdown",
   "id": "6b3acf08",
   "metadata": {},
   "source": [
    "#### <font color='purple'><b>Read data :"
   ]
  },
  {
   "cell_type": "code",
   "execution_count": 64,
   "id": "895c5369",
   "metadata": {},
   "outputs": [
    {
     "data": {
      "text/html": [
       "<div>\n",
       "<style scoped>\n",
       "    .dataframe tbody tr th:only-of-type {\n",
       "        vertical-align: middle;\n",
       "    }\n",
       "\n",
       "    .dataframe tbody tr th {\n",
       "        vertical-align: top;\n",
       "    }\n",
       "\n",
       "    .dataframe thead th {\n",
       "        text-align: right;\n",
       "    }\n",
       "</style>\n",
       "<table border=\"1\" class=\"dataframe\">\n",
       "  <thead>\n",
       "    <tr style=\"text-align: right;\">\n",
       "      <th></th>\n",
       "      <th>clean_text</th>\n",
       "      <th>category</th>\n",
       "    </tr>\n",
       "  </thead>\n",
       "  <tbody>\n",
       "    <tr>\n",
       "      <th>0</th>\n",
       "      <td>name ravali p curriculum vitae specialization ...</td>\n",
       "      <td>Internship</td>\n",
       "    </tr>\n",
       "    <tr>\n",
       "      <th>1</th>\n",
       "      <td>susovan bag seeking challenging position field...</td>\n",
       "      <td>Internship</td>\n",
       "    </tr>\n",
       "    <tr>\n",
       "      <th>2</th>\n",
       "      <td>kanumuru deepak reddycareer objectiveto secure...</td>\n",
       "      <td>ReactJS Developer</td>\n",
       "    </tr>\n",
       "    <tr>\n",
       "      <th>3</th>\n",
       "      <td>haripriya battina experience ui developer reac...</td>\n",
       "      <td>ReactJS Developer</td>\n",
       "    </tr>\n",
       "    <tr>\n",
       "      <th>4</th>\n",
       "      <td>kamalakar reddy linked professional summary 3 ...</td>\n",
       "      <td>ReactJS Developer</td>\n",
       "    </tr>\n",
       "  </tbody>\n",
       "</table>\n",
       "</div>"
      ],
      "text/plain": [
       "                                          clean_text           category\n",
       "0  name ravali p curriculum vitae specialization ...         Internship\n",
       "1  susovan bag seeking challenging position field...         Internship\n",
       "2  kanumuru deepak reddycareer objectiveto secure...  ReactJS Developer\n",
       "3  haripriya battina experience ui developer reac...  ReactJS Developer\n",
       "4  kamalakar reddy linked professional summary 3 ...  ReactJS Developer"
      ]
     },
     "execution_count": 64,
     "metadata": {},
     "output_type": "execute_result"
    }
   ],
   "source": [
    "df = pd.read_csv('resume_clean.csv')\n",
    "df.head()"
   ]
  },
  {
   "cell_type": "code",
   "execution_count": 65,
   "id": "17522724",
   "metadata": {},
   "outputs": [
    {
     "data": {
      "text/plain": [
       "ReactJS Developer    22\n",
       "Workday              21\n",
       "Peoplesoft           20\n",
       "SQL Developer        14\n",
       "Internship            2\n",
       "Name: category, dtype: int64"
      ]
     },
     "execution_count": 65,
     "metadata": {},
     "output_type": "execute_result"
    }
   ],
   "source": [
    "df['category'].value_counts()"
   ]
  },
  {
   "cell_type": "markdown",
   "id": "04d4e307",
   "metadata": {},
   "source": [
    "#### <font color='magenta'><b>Split into independent and dependent varaiables :"
   ]
  },
  {
   "cell_type": "code",
   "execution_count": 89,
   "id": "527693db",
   "metadata": {},
   "outputs": [],
   "source": [
    "x = df['clean_text'].values \n",
    "y = df['category'].values"
   ]
  },
  {
   "cell_type": "markdown",
   "id": "9919c334",
   "metadata": {},
   "source": [
    "#### <font color='magenta'><b>Split into Train and Test set :"
   ]
  },
  {
   "cell_type": "code",
   "execution_count": 90,
   "id": "33ff3c03",
   "metadata": {},
   "outputs": [],
   "source": [
    "x_train,x_test,y_train,y_test = train_test_split(x,y,test_size=0.2,random_state=0,stratify=y)"
   ]
  },
  {
   "cell_type": "code",
   "execution_count": 91,
   "id": "ab6bd4a3",
   "metadata": {
    "scrolled": true
   },
   "outputs": [
    {
     "data": {
      "text/plain": [
       "(Counter({'ReactJS Developer': 17,\n",
       "          'SQL Developer': 11,\n",
       "          'Internship': 2,\n",
       "          'Peoplesoft': 16,\n",
       "          'Workday': 17}),\n",
       " Counter({'Workday': 4,\n",
       "          'ReactJS Developer': 5,\n",
       "          'SQL Developer': 3,\n",
       "          'Peoplesoft': 4}))"
      ]
     },
     "execution_count": 91,
     "metadata": {},
     "output_type": "execute_result"
    }
   ],
   "source": [
    "Counter(y_train), Counter(y_test)"
   ]
  },
  {
   "cell_type": "code",
   "execution_count": 92,
   "id": "15e278c2",
   "metadata": {},
   "outputs": [],
   "source": [
    "Test = pd.DataFrame(x_test).to_csv(\"Test.csv\",index=False,encoding='utf-8-sig')"
   ]
  },
  {
   "cell_type": "markdown",
   "id": "612ec534",
   "metadata": {},
   "source": [
    "### <font color='purple'><b>Feature Extraction :"
   ]
  },
  {
   "cell_type": "markdown",
   "id": "73abecc2",
   "metadata": {},
   "source": [
    "#### <font color='magenta'><b>Tf-Idf Vectorizer :"
   ]
  },
  {
   "cell_type": "code",
   "execution_count": 93,
   "id": "8d88e31c",
   "metadata": {},
   "outputs": [],
   "source": [
    "tfidf_vector = TfidfVectorizer(sublinear_tf=True,stop_words='english')"
   ]
  },
  {
   "cell_type": "code",
   "execution_count": 94,
   "id": "7b7d3b8f",
   "metadata": {},
   "outputs": [],
   "source": [
    "x_train_tf = tfidf_vector.fit_transform(x_train)\n",
    "x_test_tf = tfidf_vector.transform(x_test)"
   ]
  },
  {
   "cell_type": "code",
   "execution_count": 95,
   "id": "fe6839b9",
   "metadata": {},
   "outputs": [
    {
     "data": {
      "text/plain": [
       "((63, 6223), (63,))"
      ]
     },
     "execution_count": 95,
     "metadata": {},
     "output_type": "execute_result"
    }
   ],
   "source": [
    "x_train_tf.shape, y_train.shape"
   ]
  },
  {
   "cell_type": "code",
   "execution_count": 96,
   "id": "edabe1a1",
   "metadata": {},
   "outputs": [
    {
     "data": {
      "text/plain": [
       "((16, 6223), (16,))"
      ]
     },
     "execution_count": 96,
     "metadata": {},
     "output_type": "execute_result"
    }
   ],
   "source": [
    "x_test_tf.shape, y_test.shape"
   ]
  },
  {
   "cell_type": "markdown",
   "id": "9a0b32ff",
   "metadata": {},
   "source": [
    "### <font color='purple'><b>Model building :"
   ]
  },
  {
   "cell_type": "markdown",
   "id": "82b1d233",
   "metadata": {},
   "source": [
    "### <font color='magenta'><b>One vs Rest Classifier :"
   ]
  },
  {
   "cell_type": "markdown",
   "id": "3e7e4053",
   "metadata": {},
   "source": [
    "<font color='hotpink'><b><I>It fits one classifier per class. For each classifier, the class is fitted against all the other classes. It is a heuristic method for using binary classification algorithms for multi-class classification. It involves splitting the multi-class dataset into multiple binary classification problems."
   ]
  },
  {
   "cell_type": "markdown",
   "id": "908514ec",
   "metadata": {},
   "source": [
    "### <font color='green'><b>Support Vector Machine Classifier :"
   ]
  },
  {
   "cell_type": "code",
   "execution_count": 97,
   "id": "488c9a93",
   "metadata": {},
   "outputs": [
    {
     "data": {
      "text/html": [
       "<style>#sk-container-id-3 {color: black;background-color: white;}#sk-container-id-3 pre{padding: 0;}#sk-container-id-3 div.sk-toggleable {background-color: white;}#sk-container-id-3 label.sk-toggleable__label {cursor: pointer;display: block;width: 100%;margin-bottom: 0;padding: 0.3em;box-sizing: border-box;text-align: center;}#sk-container-id-3 label.sk-toggleable__label-arrow:before {content: \"▸\";float: left;margin-right: 0.25em;color: #696969;}#sk-container-id-3 label.sk-toggleable__label-arrow:hover:before {color: black;}#sk-container-id-3 div.sk-estimator:hover label.sk-toggleable__label-arrow:before {color: black;}#sk-container-id-3 div.sk-toggleable__content {max-height: 0;max-width: 0;overflow: hidden;text-align: left;background-color: #f0f8ff;}#sk-container-id-3 div.sk-toggleable__content pre {margin: 0.2em;color: black;border-radius: 0.25em;background-color: #f0f8ff;}#sk-container-id-3 input.sk-toggleable__control:checked~div.sk-toggleable__content {max-height: 200px;max-width: 100%;overflow: auto;}#sk-container-id-3 input.sk-toggleable__control:checked~label.sk-toggleable__label-arrow:before {content: \"▾\";}#sk-container-id-3 div.sk-estimator input.sk-toggleable__control:checked~label.sk-toggleable__label {background-color: #d4ebff;}#sk-container-id-3 div.sk-label input.sk-toggleable__control:checked~label.sk-toggleable__label {background-color: #d4ebff;}#sk-container-id-3 input.sk-hidden--visually {border: 0;clip: rect(1px 1px 1px 1px);clip: rect(1px, 1px, 1px, 1px);height: 1px;margin: -1px;overflow: hidden;padding: 0;position: absolute;width: 1px;}#sk-container-id-3 div.sk-estimator {font-family: monospace;background-color: #f0f8ff;border: 1px dotted black;border-radius: 0.25em;box-sizing: border-box;margin-bottom: 0.5em;}#sk-container-id-3 div.sk-estimator:hover {background-color: #d4ebff;}#sk-container-id-3 div.sk-parallel-item::after {content: \"\";width: 100%;border-bottom: 1px solid gray;flex-grow: 1;}#sk-container-id-3 div.sk-label:hover label.sk-toggleable__label {background-color: #d4ebff;}#sk-container-id-3 div.sk-serial::before {content: \"\";position: absolute;border-left: 1px solid gray;box-sizing: border-box;top: 0;bottom: 0;left: 50%;z-index: 0;}#sk-container-id-3 div.sk-serial {display: flex;flex-direction: column;align-items: center;background-color: white;padding-right: 0.2em;padding-left: 0.2em;position: relative;}#sk-container-id-3 div.sk-item {position: relative;z-index: 1;}#sk-container-id-3 div.sk-parallel {display: flex;align-items: stretch;justify-content: center;background-color: white;position: relative;}#sk-container-id-3 div.sk-item::before, #sk-container-id-3 div.sk-parallel-item::before {content: \"\";position: absolute;border-left: 1px solid gray;box-sizing: border-box;top: 0;bottom: 0;left: 50%;z-index: -1;}#sk-container-id-3 div.sk-parallel-item {display: flex;flex-direction: column;z-index: 1;position: relative;background-color: white;}#sk-container-id-3 div.sk-parallel-item:first-child::after {align-self: flex-end;width: 50%;}#sk-container-id-3 div.sk-parallel-item:last-child::after {align-self: flex-start;width: 50%;}#sk-container-id-3 div.sk-parallel-item:only-child::after {width: 0;}#sk-container-id-3 div.sk-dashed-wrapped {border: 1px dashed gray;margin: 0 0.4em 0.5em 0.4em;box-sizing: border-box;padding-bottom: 0.4em;background-color: white;}#sk-container-id-3 div.sk-label label {font-family: monospace;font-weight: bold;display: inline-block;line-height: 1.2em;}#sk-container-id-3 div.sk-label-container {text-align: center;}#sk-container-id-3 div.sk-container {/* jupyter's `normalize.less` sets `[hidden] { display: none; }` but bootstrap.min.css set `[hidden] { display: none !important; }` so we also need the `!important` here to be able to override the default hidden behavior on the sphinx rendered scikit-learn.org. See: https://github.com/scikit-learn/scikit-learn/issues/21755 */display: inline-block !important;position: relative;}#sk-container-id-3 div.sk-text-repr-fallback {display: none;}</style><div id=\"sk-container-id-3\" class=\"sk-top-container\"><div class=\"sk-text-repr-fallback\"><pre>OneVsRestClassifier(estimator=SVC(kernel=&#x27;linear&#x27;, probability=True,\n",
       "                                  random_state=0))</pre><b>In a Jupyter environment, please rerun this cell to show the HTML representation or trust the notebook. <br />On GitHub, the HTML representation is unable to render, please try loading this page with nbviewer.org.</b></div><div class=\"sk-container\" hidden><div class=\"sk-item sk-dashed-wrapped\"><div class=\"sk-label-container\"><div class=\"sk-label sk-toggleable\"><input class=\"sk-toggleable__control sk-hidden--visually\" id=\"sk-estimator-id-5\" type=\"checkbox\" ><label for=\"sk-estimator-id-5\" class=\"sk-toggleable__label sk-toggleable__label-arrow\">OneVsRestClassifier</label><div class=\"sk-toggleable__content\"><pre>OneVsRestClassifier(estimator=SVC(kernel=&#x27;linear&#x27;, probability=True,\n",
       "                                  random_state=0))</pre></div></div></div><div class=\"sk-parallel\"><div class=\"sk-parallel-item\"><div class=\"sk-item\"><div class=\"sk-label-container\"><div class=\"sk-label sk-toggleable\"><input class=\"sk-toggleable__control sk-hidden--visually\" id=\"sk-estimator-id-6\" type=\"checkbox\" ><label for=\"sk-estimator-id-6\" class=\"sk-toggleable__label sk-toggleable__label-arrow\">estimator: SVC</label><div class=\"sk-toggleable__content\"><pre>SVC(kernel=&#x27;linear&#x27;, probability=True, random_state=0)</pre></div></div></div><div class=\"sk-serial\"><div class=\"sk-item\"><div class=\"sk-estimator sk-toggleable\"><input class=\"sk-toggleable__control sk-hidden--visually\" id=\"sk-estimator-id-7\" type=\"checkbox\" ><label for=\"sk-estimator-id-7\" class=\"sk-toggleable__label sk-toggleable__label-arrow\">SVC</label><div class=\"sk-toggleable__content\"><pre>SVC(kernel=&#x27;linear&#x27;, probability=True, random_state=0)</pre></div></div></div></div></div></div></div></div></div></div>"
      ],
      "text/plain": [
       "OneVsRestClassifier(estimator=SVC(kernel='linear', probability=True,\n",
       "                                  random_state=0))"
      ]
     },
     "execution_count": 97,
     "metadata": {},
     "output_type": "execute_result"
    }
   ],
   "source": [
    "clf = OneVsRestClassifier(SVC(kernel='linear',probability=True,random_state=0))\n",
    "clf.fit(x_train_tf, y_train)"
   ]
  },
  {
   "cell_type": "markdown",
   "id": "24f0611c",
   "metadata": {},
   "source": [
    "#### <font color='orange'><b>Model Evaluation :"
   ]
  },
  {
   "cell_type": "markdown",
   "id": "c48f8c9f",
   "metadata": {},
   "source": [
    "#### <font color='green'>Train data :"
   ]
  },
  {
   "cell_type": "markdown",
   "id": "07d87787",
   "metadata": {},
   "source": [
    "#### <font color='peach'>Metrics :"
   ]
  },
  {
   "cell_type": "code",
   "execution_count": 132,
   "id": "c4a24124",
   "metadata": {},
   "outputs": [],
   "source": [
    "y_pred_train = clf.predict(x_train_tf)"
   ]
  },
  {
   "cell_type": "code",
   "execution_count": 133,
   "id": "fa665051",
   "metadata": {},
   "outputs": [
    {
     "name": "stdout",
     "output_type": "stream",
     "text": [
      "                   precision    recall  f1-score   support\n",
      "\n",
      "       Internship       1.00      1.00      1.00         2\n",
      "       Peoplesoft       1.00      1.00      1.00        16\n",
      "ReactJS Developer       1.00      1.00      1.00        17\n",
      "    SQL Developer       1.00      1.00      1.00        11\n",
      "          Workday       1.00      1.00      1.00        17\n",
      "\n",
      "         accuracy                           1.00        63\n",
      "        macro avg       1.00      1.00      1.00        63\n",
      "     weighted avg       1.00      1.00      1.00        63\n",
      "\n"
     ]
    }
   ],
   "source": [
    "print(classification_report(y_train,y_pred_train))"
   ]
  },
  {
   "cell_type": "markdown",
   "id": "d76121da",
   "metadata": {},
   "source": [
    "#### <font color='green'>Test data :"
   ]
  },
  {
   "cell_type": "code",
   "execution_count": 98,
   "id": "9b0b7a72",
   "metadata": {},
   "outputs": [],
   "source": [
    "y_pred = clf.predict(x_test_tf)"
   ]
  },
  {
   "cell_type": "markdown",
   "id": "7c7b5113",
   "metadata": {},
   "source": [
    "#### <font color='peach'><b>Metrics :"
   ]
  },
  {
   "cell_type": "code",
   "execution_count": 100,
   "id": "670f97b9",
   "metadata": {},
   "outputs": [
    {
     "name": "stdout",
     "output_type": "stream",
     "text": [
      "                   precision    recall  f1-score   support\n",
      "\n",
      "       Peoplesoft       1.00      1.00      1.00         4\n",
      "ReactJS Developer       1.00      1.00      1.00         5\n",
      "    SQL Developer       1.00      1.00      1.00         3\n",
      "          Workday       1.00      1.00      1.00         4\n",
      "\n",
      "         accuracy                           1.00        16\n",
      "        macro avg       1.00      1.00      1.00        16\n",
      "     weighted avg       1.00      1.00      1.00        16\n",
      "\n"
     ]
    }
   ],
   "source": [
    "print(classification_report(y_test,y_pred))"
   ]
  },
  {
   "cell_type": "code",
   "execution_count": 102,
   "id": "c80c308a",
   "metadata": {},
   "outputs": [],
   "source": [
    "accuracy_sv = round(accuracy_score(y_test,y_pred),4)\n",
    "precision_sv = round(precision_score(y_test,y_pred,average = 'macro'),4)\n",
    "recall_sv = round(recall_score(y_test,y_pred, average = 'macro'),4)\n",
    "f1_sv = round(f1_score(y_test,y_pred, average = 'macro'),4)"
   ]
  },
  {
   "cell_type": "code",
   "execution_count": 103,
   "id": "893a0429",
   "metadata": {},
   "outputs": [
    {
     "name": "stdout",
     "output_type": "stream",
     "text": [
      "Accuracy Score  :  1.0\n",
      "Precision Score :  1.0\n",
      "Recall Score    :  1.0\n",
      "f1-Score        :  1.0\n"
     ]
    }
   ],
   "source": [
    "print('Accuracy Score  : ', accuracy_sv)\n",
    "print('Precision Score : ', precision_sv)\n",
    "print('Recall Score    : ', recall_sv)\n",
    "print('f1-Score        : ', f1_sv)"
   ]
  },
  {
   "cell_type": "markdown",
   "id": "01b28e8a",
   "metadata": {},
   "source": [
    "<font color='maroon'><b>F1 Score becomes 1 only when precision and recall are both 1.\n",
    "    \n",
    "<font color='maroon'><b>A Precision of 1 indicates the model produces no False Positives.\n",
    "    \n",
    "<font color='maroon'><b>A recall of 1 indicates the model produces no False Negatives"
   ]
  },
  {
   "cell_type": "markdown",
   "id": "77e46784",
   "metadata": {},
   "source": [
    "#### <font color='peach'><b>Confusion Matrix :"
   ]
  },
  {
   "cell_type": "code",
   "execution_count": 101,
   "id": "629447d7",
   "metadata": {},
   "outputs": [
    {
     "data": {
      "image/png": "[encoded data removed]",
      "text/plain": [
       "<Figure size 432x288 with 2 Axes>"
      ]
     },
     "metadata": {
      "needs_background": "light"
     },
     "output_type": "display_data"
    }
   ],
   "source": [
    "ConfusionMatrixDisplay.from_predictions(y_test,y_pred,xticks_rotation='vertical')\n",
    "plt.grid(False);"
   ]
  },
  {
   "cell_type": "code",
   "execution_count": 222,
   "id": "52a35ef7",
   "metadata": {},
   "outputs": [
    {
     "data": {
      "image/png": "[encoded data removed]",
      "text/plain": [
       "<PIL.PngImagePlugin.PngImageFile image mode=RGB size=306x165 at 0x1A13F346C10>"
      ]
     },
     "execution_count": 222,
     "metadata": {},
     "output_type": "execute_result"
    }
   ],
   "source": [
    "from PIL import ImageGrab\n",
    "ImageGrab.grabclipboard()"
   ]
  },
  {
   "cell_type": "markdown",
   "id": "466a2580",
   "metadata": {},
   "source": [
    "<font color='orange'><b><I>Predicting Probabilities :"
   ]
  },
  {
   "cell_type": "code",
   "execution_count": 85,
   "id": "3ee1adb6",
   "metadata": {},
   "outputs": [
    {
     "data": {
      "text/plain": [
       "array([[0.07238931, 0.00401706, 0.00423392, 0.01053945, 0.90882025],\n",
       "       [0.05450815, 0.00400833, 0.93001834, 0.00392926, 0.00753593],\n",
       "       [0.07790243, 0.00444527, 0.00303864, 0.00454896, 0.91006471],\n",
       "       [0.10444143, 0.01355713, 0.00198197, 0.86712943, 0.01289004],\n",
       "       [0.04001683, 0.88800626, 0.02875324, 0.0111428 , 0.03208088],\n",
       "       [0.01022709, 0.03988094, 0.93001222, 0.00691141, 0.01296835],\n",
       "       [0.06191862, 0.91606878, 0.00241626, 0.00442738, 0.01516896],\n",
       "       [0.05748333, 0.9268136 , 0.00249404, 0.00321132, 0.0099977 ],\n",
       "       [0.01238671, 0.01064173, 0.95489887, 0.01022296, 0.01184972],\n",
       "       [0.01925832, 0.00662514, 0.93532367, 0.01119729, 0.02759557],\n",
       "       [0.06071379, 0.0111224 , 0.00212074, 0.00241997, 0.92362311],\n",
       "       [0.08859047, 0.00387118, 0.89649741, 0.00379097, 0.00724997],\n",
       "       [0.07823701, 0.90483905, 0.00259049, 0.00360281, 0.01073065],\n",
       "       [0.04242643, 0.02102265, 0.04715726, 0.87168343, 0.01771024],\n",
       "       [0.10698623, 0.02082269, 0.00331555, 0.85059659, 0.01827894],\n",
       "       [0.12149155, 0.00764318, 0.00634421, 0.0039792 , 0.86054186]])"
      ]
     },
     "execution_count": 85,
     "metadata": {},
     "output_type": "execute_result"
    }
   ],
   "source": [
    "y_score = clf.predict_proba(x_test_tf)\n",
    "y_score"
   ]
  },
  {
   "cell_type": "markdown",
   "id": "3fefcc3d",
   "metadata": {},
   "source": [
    "#### <font color='brown'><b>Label Binarize :"
   ]
  },
  {
   "cell_type": "code",
   "execution_count": 107,
   "id": "4fb928db",
   "metadata": {},
   "outputs": [
    {
     "data": {
      "text/plain": [
       "(16, 5)"
      ]
     },
     "execution_count": 107,
     "metadata": {},
     "output_type": "execute_result"
    }
   ],
   "source": [
    "lb = LabelBinarizer().fit(y_train)\n",
    "y_onehot_test = lb.transform(y_test)\n",
    "y_onehot_test.shape"
   ]
  },
  {
   "cell_type": "markdown",
   "id": "0ef1141a",
   "metadata": {},
   "source": [
    "#### <font color='brown'><b>ROC-AUC Score :"
   ]
  },
  {
   "cell_type": "code",
   "execution_count": 108,
   "id": "88972d72",
   "metadata": {},
   "outputs": [
    {
     "name": "stdout",
     "output_type": "stream",
     "text": [
      "Micro-averaged One-vs-Rest ROC AUC score:\n",
      "1.00\n"
     ]
    }
   ],
   "source": [
    "from sklearn.metrics import roc_curve, auc\n",
    "\n",
    "# store the fpr, tpr, and roc_auc for all averaging strategies\n",
    "fpr, tpr, roc_auc = dict(), dict(), dict()\n",
    "# Compute micro-average ROC curve and ROC area\n",
    "fpr[\"micro\"], tpr[\"micro\"], _ = roc_curve(y_onehot_test.ravel(), y_score.ravel())\n",
    "roc_auc[\"micro\"] = auc(fpr[\"micro\"], tpr[\"micro\"])\n",
    "\n",
    "print(f\"Micro-averaged One-vs-Rest ROC AUC score:\\n{roc_auc['micro']:.2f}\")"
   ]
  },
  {
   "cell_type": "markdown",
   "id": "4a048a22",
   "metadata": {},
   "source": [
    "#### <font color='brown'><b>ROC-AUC Curve :"
   ]
  },
  {
   "cell_type": "code",
   "execution_count": 146,
   "id": "604a081b",
   "metadata": {},
   "outputs": [
    {
     "data": {
      "image/png": "[encoded data removed]",
      "text/plain": [
       "<Figure size 432x432 with 1 Axes>"
      ]
     },
     "metadata": {
      "needs_background": "light"
     },
     "output_type": "display_data"
    }
   ],
   "source": [
    "from itertools import cycle\n",
    "n_classes = len(np.unique(y))\n",
    "fig, ax = plt.subplots(figsize=(6, 6))\n",
    "\n",
    "plt.plot(\n",
    "    fpr[\"micro\"],\n",
    "    tpr[\"micro\"],\n",
    "    label=f\"micro-average ROC curve (AUC = {roc_auc['micro']:.2f})\",\n",
    "    color=\"deeppink\",\n",
    "    linestyle=\":\",\n",
    "    linewidth=4,\n",
    ")\n",
    "\n",
    "\n",
    "colors = cycle([\"aqua\", \"darkorange\", \"cornflowerblue\",\"green\",\"maroon\"])\n",
    "for class_id, color in zip(range(n_classes), colors):\n",
    "    RocCurveDisplay.from_predictions(\n",
    "        y_onehot_test[:, class_id],\n",
    "        y_score[:, class_id],\n",
    "        name=f\"ROC curve for {np.unique(y)[class_id]}\",\n",
    "        color=color,\n",
    "        ax=ax,\n",
    "    )\n",
    "\n",
    "plt.plot([0, 1], [0, 1], \"k--\", label=\"ROC curve for chance level (AUC = 0.5)\")\n",
    "plt.axis(\"square\")\n",
    "plt.xlabel(\"False Positive Rate\")\n",
    "plt.ylabel(\"True Positive Rate\")\n",
    "plt.title(\"Extension of Receiver Operating Characteristic\\nto One-vs-Rest multiclass\")\n",
    "plt.legend()\n",
    "plt.show()"
   ]
  },
  {
   "cell_type": "markdown",
   "id": "d3e846f6",
   "metadata": {},
   "source": [
    "<font color='maroon'><b><I>AUC of 0.5 suggests no discrimination. Here AUC=1 indicates the predictions are 100 percent correct. "
   ]
  },
  {
   "cell_type": "markdown",
   "id": "1f156b5f",
   "metadata": {},
   "source": [
    "#### <font color='brown'><b>Precision Recall Curve :"
   ]
  },
  {
   "cell_type": "code",
   "execution_count": 131,
   "id": "cd5f0e54",
   "metadata": {},
   "outputs": [
    {
     "data": {
      "image/png": "[encoded data removed]",
      "text/plain": [
       "<Figure size 432x288 with 1 Axes>"
      ]
     },
     "metadata": {
      "needs_background": "light"
     },
     "output_type": "display_data"
    }
   ],
   "source": [
    "precision = dict()\n",
    "recall = dict()\n",
    "for i in range(n_classes):\n",
    "    precision[i], recall[i], _ = precision_recall_curve(y_onehot_test[:, i],\n",
    "                                                        y_score[:, i])\n",
    "    plt.plot(recall[i], precision[i], lw=2, label='class {}'.format(i))\n",
    "    \n",
    "plt.xlabel(\"recall\")\n",
    "plt.ylabel(\"precision\")\n",
    "plt.legend(loc=\"best\")\n",
    "plt.title(\"precision vs. recall curve\")\n",
    "plt.show()"
   ]
  },
  {
   "cell_type": "markdown",
   "id": "aef790d3",
   "metadata": {},
   "source": [
    "<font color='maroon'><b><I>A high area under the curve represents both high recall and high precision, where high precision relates to a low false positive rate, and high recall relates to a low false negative rate."
   ]
  },
  {
   "cell_type": "markdown",
   "id": "5f96abd3",
   "metadata": {},
   "source": [
    "### <font color='green'><b>Naive-Bayes Classifier :"
   ]
  },
  {
   "cell_type": "code",
   "execution_count": 134,
   "id": "d868d4ff",
   "metadata": {},
   "outputs": [
    {
     "data": {
      "text/html": [
       "<style>#sk-container-id-4 {color: black;background-color: white;}#sk-container-id-4 pre{padding: 0;}#sk-container-id-4 div.sk-toggleable {background-color: white;}#sk-container-id-4 label.sk-toggleable__label {cursor: pointer;display: block;width: 100%;margin-bottom: 0;padding: 0.3em;box-sizing: border-box;text-align: center;}#sk-container-id-4 label.sk-toggleable__label-arrow:before {content: \"▸\";float: left;margin-right: 0.25em;color: #696969;}#sk-container-id-4 label.sk-toggleable__label-arrow:hover:before {color: black;}#sk-container-id-4 div.sk-estimator:hover label.sk-toggleable__label-arrow:before {color: black;}#sk-container-id-4 div.sk-toggleable__content {max-height: 0;max-width: 0;overflow: hidden;text-align: left;background-color: #f0f8ff;}#sk-container-id-4 div.sk-toggleable__content pre {margin: 0.2em;color: black;border-radius: 0.25em;background-color: #f0f8ff;}#sk-container-id-4 input.sk-toggleable__control:checked~div.sk-toggleable__content {max-height: 200px;max-width: 100%;overflow: auto;}#sk-container-id-4 input.sk-toggleable__control:checked~label.sk-toggleable__label-arrow:before {content: \"▾\";}#sk-container-id-4 div.sk-estimator input.sk-toggleable__control:checked~label.sk-toggleable__label {background-color: #d4ebff;}#sk-container-id-4 div.sk-label input.sk-toggleable__control:checked~label.sk-toggleable__label {background-color: #d4ebff;}#sk-container-id-4 input.sk-hidden--visually {border: 0;clip: rect(1px 1px 1px 1px);clip: rect(1px, 1px, 1px, 1px);height: 1px;margin: -1px;overflow: hidden;padding: 0;position: absolute;width: 1px;}#sk-container-id-4 div.sk-estimator {font-family: monospace;background-color: #f0f8ff;border: 1px dotted black;border-radius: 0.25em;box-sizing: border-box;margin-bottom: 0.5em;}#sk-container-id-4 div.sk-estimator:hover {background-color: #d4ebff;}#sk-container-id-4 div.sk-parallel-item::after {content: \"\";width: 100%;border-bottom: 1px solid gray;flex-grow: 1;}#sk-container-id-4 div.sk-label:hover label.sk-toggleable__label {background-color: #d4ebff;}#sk-container-id-4 div.sk-serial::before {content: \"\";position: absolute;border-left: 1px solid gray;box-sizing: border-box;top: 0;bottom: 0;left: 50%;z-index: 0;}#sk-container-id-4 div.sk-serial {display: flex;flex-direction: column;align-items: center;background-color: white;padding-right: 0.2em;padding-left: 0.2em;position: relative;}#sk-container-id-4 div.sk-item {position: relative;z-index: 1;}#sk-container-id-4 div.sk-parallel {display: flex;align-items: stretch;justify-content: center;background-color: white;position: relative;}#sk-container-id-4 div.sk-item::before, #sk-container-id-4 div.sk-parallel-item::before {content: \"\";position: absolute;border-left: 1px solid gray;box-sizing: border-box;top: 0;bottom: 0;left: 50%;z-index: -1;}#sk-container-id-4 div.sk-parallel-item {display: flex;flex-direction: column;z-index: 1;position: relative;background-color: white;}#sk-container-id-4 div.sk-parallel-item:first-child::after {align-self: flex-end;width: 50%;}#sk-container-id-4 div.sk-parallel-item:last-child::after {align-self: flex-start;width: 50%;}#sk-container-id-4 div.sk-parallel-item:only-child::after {width: 0;}#sk-container-id-4 div.sk-dashed-wrapped {border: 1px dashed gray;margin: 0 0.4em 0.5em 0.4em;box-sizing: border-box;padding-bottom: 0.4em;background-color: white;}#sk-container-id-4 div.sk-label label {font-family: monospace;font-weight: bold;display: inline-block;line-height: 1.2em;}#sk-container-id-4 div.sk-label-container {text-align: center;}#sk-container-id-4 div.sk-container {/* jupyter's `normalize.less` sets `[hidden] { display: none; }` but bootstrap.min.css set `[hidden] { display: none !important; }` so we also need the `!important` here to be able to override the default hidden behavior on the sphinx rendered scikit-learn.org. See: https://github.com/scikit-learn/scikit-learn/issues/21755 */display: inline-block !important;position: relative;}#sk-container-id-4 div.sk-text-repr-fallback {display: none;}</style><div id=\"sk-container-id-4\" class=\"sk-top-container\"><div class=\"sk-text-repr-fallback\"><pre>OneVsRestClassifier(estimator=MultinomialNB())</pre><b>In a Jupyter environment, please rerun this cell to show the HTML representation or trust the notebook. <br />On GitHub, the HTML representation is unable to render, please try loading this page with nbviewer.org.</b></div><div class=\"sk-container\" hidden><div class=\"sk-item sk-dashed-wrapped\"><div class=\"sk-label-container\"><div class=\"sk-label sk-toggleable\"><input class=\"sk-toggleable__control sk-hidden--visually\" id=\"sk-estimator-id-8\" type=\"checkbox\" ><label for=\"sk-estimator-id-8\" class=\"sk-toggleable__label sk-toggleable__label-arrow\">OneVsRestClassifier</label><div class=\"sk-toggleable__content\"><pre>OneVsRestClassifier(estimator=MultinomialNB())</pre></div></div></div><div class=\"sk-parallel\"><div class=\"sk-parallel-item\"><div class=\"sk-item\"><div class=\"sk-label-container\"><div class=\"sk-label sk-toggleable\"><input class=\"sk-toggleable__control sk-hidden--visually\" id=\"sk-estimator-id-9\" type=\"checkbox\" ><label for=\"sk-estimator-id-9\" class=\"sk-toggleable__label sk-toggleable__label-arrow\">estimator: MultinomialNB</label><div class=\"sk-toggleable__content\"><pre>MultinomialNB()</pre></div></div></div><div class=\"sk-serial\"><div class=\"sk-item\"><div class=\"sk-estimator sk-toggleable\"><input class=\"sk-toggleable__control sk-hidden--visually\" id=\"sk-estimator-id-10\" type=\"checkbox\" ><label for=\"sk-estimator-id-10\" class=\"sk-toggleable__label sk-toggleable__label-arrow\">MultinomialNB</label><div class=\"sk-toggleable__content\"><pre>MultinomialNB()</pre></div></div></div></div></div></div></div></div></div></div>"
      ],
      "text/plain": [
       "OneVsRestClassifier(estimator=MultinomialNB())"
      ]
     },
     "execution_count": 134,
     "metadata": {},
     "output_type": "execute_result"
    }
   ],
   "source": [
    "clf2 = OneVsRestClassifier(MultinomialNB())\n",
    "clf2.fit(x_train_tf,y_train)"
   ]
  },
  {
   "cell_type": "markdown",
   "id": "900bbad0",
   "metadata": {},
   "source": [
    "#### <font color='orange'><b>Model Evaluation :"
   ]
  },
  {
   "cell_type": "markdown",
   "id": "6135feb1",
   "metadata": {},
   "source": [
    "#### <font color='green'><b>Train data:"
   ]
  },
  {
   "cell_type": "markdown",
   "id": "57095833",
   "metadata": {},
   "source": [
    "#### <font color='peach'><b>Metrics :"
   ]
  },
  {
   "cell_type": "code",
   "execution_count": 135,
   "id": "b8f59381",
   "metadata": {},
   "outputs": [],
   "source": [
    "y_pred_train2 = clf2.predict(x_train_tf)"
   ]
  },
  {
   "cell_type": "code",
   "execution_count": 136,
   "id": "e19a67f3",
   "metadata": {},
   "outputs": [
    {
     "name": "stdout",
     "output_type": "stream",
     "text": [
      "                   precision    recall  f1-score   support\n",
      "\n",
      "       Internship       0.00      0.00      0.00         2\n",
      "       Peoplesoft       1.00      1.00      1.00        16\n",
      "ReactJS Developer       0.89      1.00      0.94        17\n",
      "    SQL Developer       1.00      1.00      1.00        11\n",
      "          Workday       1.00      1.00      1.00        17\n",
      "\n",
      "         accuracy                           0.97        63\n",
      "        macro avg       0.78      0.80      0.79        63\n",
      "     weighted avg       0.94      0.97      0.95        63\n",
      "\n"
     ]
    }
   ],
   "source": [
    "print(classification_report(y_train,y_pred_train2))"
   ]
  },
  {
   "cell_type": "markdown",
   "id": "8a7c9609",
   "metadata": {},
   "source": [
    "#### <font color='green'><b>Test data :"
   ]
  },
  {
   "cell_type": "markdown",
   "id": "a9cbdd23",
   "metadata": {},
   "source": [
    "#### <font color='peach'><b>Metrics :"
   ]
  },
  {
   "cell_type": "code",
   "execution_count": 137,
   "id": "99a862b4",
   "metadata": {},
   "outputs": [],
   "source": [
    "y_pred2 = clf2.predict(x_test_tf)"
   ]
  },
  {
   "cell_type": "code",
   "execution_count": 139,
   "id": "799ef500",
   "metadata": {},
   "outputs": [
    {
     "name": "stdout",
     "output_type": "stream",
     "text": [
      "                   precision    recall  f1-score   support\n",
      "\n",
      "       Peoplesoft       1.00      1.00      1.00         4\n",
      "ReactJS Developer       1.00      1.00      1.00         5\n",
      "    SQL Developer       1.00      0.67      0.80         3\n",
      "          Workday       0.80      1.00      0.89         4\n",
      "\n",
      "         accuracy                           0.94        16\n",
      "        macro avg       0.95      0.92      0.92        16\n",
      "     weighted avg       0.95      0.94      0.93        16\n",
      "\n"
     ]
    }
   ],
   "source": [
    "print(classification_report(y_test,y_pred2))"
   ]
  },
  {
   "cell_type": "code",
   "execution_count": 141,
   "id": "7acc3e8e",
   "metadata": {},
   "outputs": [],
   "source": [
    "accuracy_n = round(accuracy_score(y_test,y_pred2),4)\n",
    "precision_n = round(precision_score(y_test,y_pred2,average = 'macro'),4)\n",
    "recall_n = round(recall_score(y_test,y_pred2, average = 'macro'),4)\n",
    "f1_n = round(f1_score(y_test,y_pred2, average = 'macro'),4)"
   ]
  },
  {
   "cell_type": "code",
   "execution_count": 142,
   "id": "a0133173",
   "metadata": {},
   "outputs": [
    {
     "name": "stdout",
     "output_type": "stream",
     "text": [
      "Accuracy Score  :  0.9375\n",
      "Precision Score :  0.95\n",
      "Recall Score    :  0.9167\n",
      "f1-Score        :  0.9222\n"
     ]
    }
   ],
   "source": [
    "print('Accuracy Score  : ', accuracy_n)\n",
    "print('Precision Score : ', precision_n)\n",
    "print('Recall Score    : ', recall_n)\n",
    "print('f1-Score        : ', f1_n)"
   ]
  },
  {
   "cell_type": "markdown",
   "id": "f447c271",
   "metadata": {},
   "source": [
    "#### <font color='peach'><b>Confusion Matrix :"
   ]
  },
  {
   "cell_type": "code",
   "execution_count": 140,
   "id": "e529ef21",
   "metadata": {},
   "outputs": [
    {
     "data": {
      "image/png": "[encoded data removed]",
      "text/plain": [
       "<Figure size 432x288 with 2 Axes>"
      ]
     },
     "metadata": {
      "needs_background": "light"
     },
     "output_type": "display_data"
    }
   ],
   "source": [
    "ConfusionMatrixDisplay.from_predictions(y_test,y_pred2,xticks_rotation='vertical')\n",
    "plt.grid(False);"
   ]
  },
  {
   "cell_type": "markdown",
   "id": "74d1a19b",
   "metadata": {},
   "source": [
    "<font color='orange'><b><I>Predicting Probabilities :"
   ]
  },
  {
   "cell_type": "code",
   "execution_count": 144,
   "id": "3ee491f0",
   "metadata": {},
   "outputs": [
    {
     "data": {
      "text/plain": [
       "array([[1.31431221e-03, 3.33590934e-02, 2.36883829e-02, 1.68009164e-02,\n",
       "        9.24837295e-01],\n",
       "       [5.59268534e-03, 7.84673250e-02, 7.74705994e-01, 4.95204470e-02,\n",
       "        9.17135483e-02],\n",
       "       [4.73068742e-04, 1.94686846e-02, 1.22889433e-02, 8.03750612e-03,\n",
       "        9.59731797e-01],\n",
       "       [4.51851271e-03, 1.19970023e-01, 7.47178515e-02, 6.11634271e-01,\n",
       "        1.89159341e-01],\n",
       "       [3.91992035e-03, 4.81257292e-01, 1.57557870e-01, 5.53570378e-02,\n",
       "        3.01907880e-01],\n",
       "       [6.91022364e-03, 1.27765670e-01, 6.35302921e-01, 5.97050747e-02,\n",
       "        1.70316111e-01],\n",
       "       [1.98329126e-03, 8.10864395e-01, 3.81681978e-02, 2.51377233e-02,\n",
       "        1.23846393e-01],\n",
       "       [2.05259867e-03, 8.66988403e-01, 3.13444236e-02, 2.13927584e-02,\n",
       "        7.82218160e-02],\n",
       "       [5.47983605e-03, 9.57727625e-02, 6.89588358e-01, 5.66264119e-02,\n",
       "        1.52532631e-01],\n",
       "       [4.94498162e-03, 9.56504042e-02, 6.10211874e-01, 5.56150150e-02,\n",
       "        2.33577725e-01],\n",
       "       [2.72519658e-04, 1.26033254e-02, 7.15601156e-03, 3.74915428e-03,\n",
       "        9.76218989e-01],\n",
       "       [3.54077759e-03, 4.51486862e-02, 8.51409604e-01, 2.87696856e-02,\n",
       "        7.11312464e-02],\n",
       "       [1.95660557e-03, 8.60492501e-01, 3.10709370e-02, 2.19905665e-02,\n",
       "        8.44893904e-02],\n",
       "       [6.03966209e-03, 1.78562974e-01, 2.29492562e-01, 2.85005150e-01,\n",
       "        3.00899651e-01],\n",
       "       [3.87846774e-03, 1.50971741e-01, 9.16545781e-02, 5.05225068e-01,\n",
       "        2.48270146e-01],\n",
       "       [5.27750502e-04, 2.19730338e-02, 1.49235539e-02, 8.10688459e-03,\n",
       "        9.54468777e-01]])"
      ]
     },
     "execution_count": 144,
     "metadata": {},
     "output_type": "execute_result"
    }
   ],
   "source": [
    "y_score2 = clf2.predict_proba(x_test_tf)\n",
    "y_score2"
   ]
  },
  {
   "cell_type": "markdown",
   "id": "efb0e8f6",
   "metadata": {},
   "source": [
    "#### <font color='brown'><b>ROC-AUC Score :"
   ]
  },
  {
   "cell_type": "code",
   "execution_count": 147,
   "id": "28093751",
   "metadata": {},
   "outputs": [
    {
     "name": "stdout",
     "output_type": "stream",
     "text": [
      "Micro-averaged One-vs-Rest ROC AUC score:\n",
      "1.00\n"
     ]
    }
   ],
   "source": [
    "# store the fpr, tpr, and roc_auc for all averaging strategies\n",
    "fpr, tpr, roc_auc = dict(), dict(), dict()\n",
    "# Compute micro-average ROC curve and ROC area\n",
    "fpr[\"micro\"], tpr[\"micro\"], _ = roc_curve(y_onehot_test.ravel(), y_score2.ravel())\n",
    "roc_auc[\"micro\"] = auc(fpr[\"micro\"], tpr[\"micro\"])\n",
    "\n",
    "print(f\"Micro-averaged One-vs-Rest ROC AUC score:\\n{roc_auc['micro']:.2f}\")"
   ]
  },
  {
   "cell_type": "markdown",
   "id": "89d0c393",
   "metadata": {},
   "source": [
    "#### <font color='brown'><b>ROC-AUC Curve :"
   ]
  },
  {
   "cell_type": "code",
   "execution_count": 148,
   "id": "b8659dc6",
   "metadata": {},
   "outputs": [
    {
     "data": {
      "image/png": "[encoded data removed]",
      "text/plain": [
       "<Figure size 432x432 with 1 Axes>"
      ]
     },
     "metadata": {
      "needs_background": "light"
     },
     "output_type": "display_data"
    }
   ],
   "source": [
    "fig, ax = plt.subplots(figsize=(6, 6))\n",
    "\n",
    "plt.plot(\n",
    "    fpr[\"micro\"],\n",
    "    tpr[\"micro\"],\n",
    "    label=f\"micro-average ROC curve (AUC = {roc_auc['micro']:.2f})\",\n",
    "    color=\"deeppink\",\n",
    "    linestyle=\":\",\n",
    "    linewidth=4,\n",
    ")\n",
    "\n",
    "\n",
    "colors = cycle([\"aqua\", \"darkorange\", \"cornflowerblue\",\"green\",\"maroon\"])\n",
    "for class_id, color in zip(range(n_classes), colors):\n",
    "    RocCurveDisplay.from_predictions(\n",
    "        y_onehot_test[:, class_id],\n",
    "        y_score2[:, class_id],\n",
    "        name=f\"ROC curve for {np.unique(y)[class_id]}\",\n",
    "        color=color,\n",
    "        ax=ax,\n",
    "    )\n",
    "\n",
    "plt.plot([0, 1], [0, 1], \"k--\", label=\"ROC curve for chance level (AUC = 0.5)\")\n",
    "plt.axis(\"square\")\n",
    "plt.xlabel(\"False Positive Rate\")\n",
    "plt.ylabel(\"True Positive Rate\")\n",
    "plt.title(\"Extension of Receiver Operating Characteristic\\nto One-vs-Rest multiclass\")\n",
    "plt.legend()\n",
    "plt.show()"
   ]
  },
  {
   "cell_type": "markdown",
   "id": "d4f47923",
   "metadata": {},
   "source": [
    "#### <font color='brown'><b>Precision Recall Curve :"
   ]
  },
  {
   "cell_type": "code",
   "execution_count": 149,
   "id": "c8580931",
   "metadata": {},
   "outputs": [
    {
     "data": {
      "image/png": "[encoded data removed]",
      "text/plain": [
       "<Figure size 432x288 with 1 Axes>"
      ]
     },
     "metadata": {
      "needs_background": "light"
     },
     "output_type": "display_data"
    }
   ],
   "source": [
    "precision = dict()\n",
    "recall = dict()\n",
    "for i in range(n_classes):\n",
    "    precision[i], recall[i], _ = precision_recall_curve(y_onehot_test[:, i],\n",
    "                                                        y_score2[:, i])\n",
    "    plt.plot(recall[i], precision[i], lw=2, label='class {}'.format(i))\n",
    "    \n",
    "plt.xlabel(\"recall\")\n",
    "plt.ylabel(\"precision\")\n",
    "plt.legend(loc=\"best\")\n",
    "plt.title(\"precision vs. recall curve\")\n",
    "plt.show()"
   ]
  },
  {
   "cell_type": "markdown",
   "id": "3718f57c",
   "metadata": {},
   "source": [
    "#### <font color='hotpink'><b>Comparison of SVM and Naive-Bayes :"
   ]
  },
  {
   "cell_type": "code",
   "execution_count": 151,
   "id": "ed1bad0e",
   "metadata": {},
   "outputs": [
    {
     "data": {
      "text/html": [
       "<div>\n",
       "<style scoped>\n",
       "    .dataframe tbody tr th:only-of-type {\n",
       "        vertical-align: middle;\n",
       "    }\n",
       "\n",
       "    .dataframe tbody tr th {\n",
       "        vertical-align: top;\n",
       "    }\n",
       "\n",
       "    .dataframe thead th {\n",
       "        text-align: right;\n",
       "    }\n",
       "</style>\n",
       "<table border=\"1\" class=\"dataframe\">\n",
       "  <thead>\n",
       "    <tr style=\"text-align: right;\">\n",
       "      <th></th>\n",
       "      <th>Classifier</th>\n",
       "      <th>Accuracy</th>\n",
       "      <th>Precision Score</th>\n",
       "      <th>Recall Score</th>\n",
       "      <th>F1_Score</th>\n",
       "    </tr>\n",
       "  </thead>\n",
       "  <tbody>\n",
       "    <tr>\n",
       "      <th>0</th>\n",
       "      <td>SVM Classifier</td>\n",
       "      <td>1.0000</td>\n",
       "      <td>1.00</td>\n",
       "      <td>1.0000</td>\n",
       "      <td>1.0000</td>\n",
       "    </tr>\n",
       "    <tr>\n",
       "      <th>1</th>\n",
       "      <td>Naive-Bayes Classifier</td>\n",
       "      <td>0.9375</td>\n",
       "      <td>0.95</td>\n",
       "      <td>0.9167</td>\n",
       "      <td>0.9222</td>\n",
       "    </tr>\n",
       "  </tbody>\n",
       "</table>\n",
       "</div>"
      ],
      "text/plain": [
       "               Classifier  Accuracy  Precision Score  Recall Score  F1_Score\n",
       "0          SVM Classifier    1.0000             1.00        1.0000    1.0000\n",
       "1  Naive-Bayes Classifier    0.9375             0.95        0.9167    0.9222"
      ]
     },
     "execution_count": 151,
     "metadata": {},
     "output_type": "execute_result"
    }
   ],
   "source": [
    "table = {'Classifier' : ['SVM Classifier', 'Naive-Bayes Classifier'], \n",
    "         'Accuracy' : [accuracy_sv, accuracy_n], \n",
    "         'Precision Score' : [precision_sv, precision_n], \n",
    "         'Recall Score' : [recall_sv, recall_n], \n",
    "         'F1_Score' : [f1_sv, f1_n]}\n",
    "table = pd.DataFrame(table)\n",
    "table.sort_values([\"Accuracy\"],ascending=False,inplace = True, ignore_index=True)\n",
    "table"
   ]
  },
  {
   "cell_type": "code",
   "execution_count": 159,
   "id": "ce7f0399",
   "metadata": {},
   "outputs": [
    {
     "data": {
      "image/png": "[encoded data removed]",
      "text/plain": [
       "<Figure size 576x504 with 1 Axes>"
      ]
     },
     "metadata": {
      "needs_background": "light"
     },
     "output_type": "display_data"
    }
   ],
   "source": [
    "plt.figure(figsize=(8,7))\n",
    "ax = sns.barplot(data=table,y='Accuracy',x='Classifier',palette='husl',ci=None)\n",
    "plt.xticks(fontsize=17,fontweight='bold');\n",
    "for i in ax.containers:\n",
    "    ax.bar_label(i,fontsize=18)"
   ]
  },
  {
   "cell_type": "markdown",
   "id": "f46313a1",
   "metadata": {},
   "source": [
    "<font color='maroon'><b><I>NB gives good results when applied to short texts but SVM is more powerful to address non-linear classification tasks and generalizes well in high dimensional spaces like those corresponding to texts."
   ]
  },
  {
   "cell_type": "markdown",
   "id": "7f99675a",
   "metadata": {},
   "source": [
    "### <font color='purple'><b>Other Classifiers :"
   ]
  },
  {
   "cell_type": "markdown",
   "id": "9daeb14e",
   "metadata": {},
   "source": [
    "#### <font color='green'><b>Decision Tree Classifier :"
   ]
  },
  {
   "cell_type": "code",
   "execution_count": 204,
   "id": "b0962de2",
   "metadata": {},
   "outputs": [],
   "source": [
    "dt = DecisionTreeClassifier(max_depth=3)\n",
    "dt.fit(x_train_tf,y_train)\n",
    "predict_d = dt.predict(x_test_tf)"
   ]
  },
  {
   "cell_type": "code",
   "execution_count": 205,
   "id": "ecbc31da",
   "metadata": {},
   "outputs": [
    {
     "data": {
      "text/plain": [
       "1.0"
      ]
     },
     "execution_count": 205,
     "metadata": {},
     "output_type": "execute_result"
    }
   ],
   "source": [
    "accuracy_d = accuracy_score(y_test,predict_d)\n",
    "accuracy_d"
   ]
  },
  {
   "cell_type": "code",
   "execution_count": 206,
   "id": "611bfd3c",
   "metadata": {},
   "outputs": [
    {
     "data": {
      "text/plain": [
       "array([[4, 0, 0, 0],\n",
       "       [0, 5, 0, 0],\n",
       "       [0, 0, 3, 0],\n",
       "       [0, 0, 0, 4]], dtype=int64)"
      ]
     },
     "execution_count": 206,
     "metadata": {},
     "output_type": "execute_result"
    }
   ],
   "source": [
    "cm_d = confusion_matrix(y_test,predict_d)\n",
    "cm_d"
   ]
  },
  {
   "cell_type": "code",
   "execution_count": 207,
   "id": "620fce87",
   "metadata": {},
   "outputs": [
    {
     "data": {
      "image/png": "[encoded data removed]",
      "text/plain": [
       "<Figure size 432x288 with 2 Axes>"
      ]
     },
     "metadata": {
      "needs_background": "light"
     },
     "output_type": "display_data"
    }
   ],
   "source": [
    "ConfusionMatrixDisplay.from_predictions(y_test,predict_d,xticks_rotation='vertical')\n",
    "plt.grid(False);"
   ]
  },
  {
   "cell_type": "code",
   "execution_count": 208,
   "id": "1bc8d8ac",
   "metadata": {},
   "outputs": [
    {
     "name": "stdout",
     "output_type": "stream",
     "text": [
      "                   precision    recall  f1-score   support\n",
      "\n",
      "       Peoplesoft       1.00      1.00      1.00         4\n",
      "ReactJS Developer       1.00      1.00      1.00         5\n",
      "    SQL Developer       1.00      1.00      1.00         3\n",
      "          Workday       1.00      1.00      1.00         4\n",
      "\n",
      "         accuracy                           1.00        16\n",
      "        macro avg       1.00      1.00      1.00        16\n",
      "     weighted avg       1.00      1.00      1.00        16\n",
      "\n"
     ]
    }
   ],
   "source": [
    "print(classification_report(y_test,predict_d))"
   ]
  },
  {
   "cell_type": "code",
   "execution_count": 209,
   "id": "57a42230",
   "metadata": {},
   "outputs": [],
   "source": [
    "accuracy_d = round(accuracy_score(y_test,predict_d),4)\n",
    "precision_d = round(precision_score(y_test,predict_d,average = 'macro'),4)\n",
    "recall_d = round(recall_score(y_test,predict_d, average = 'macro'),4)\n",
    "f1_d = round(f1_score(y_test,predict_d, average = 'macro'),4)"
   ]
  },
  {
   "cell_type": "code",
   "execution_count": 210,
   "id": "cb698cb7",
   "metadata": {},
   "outputs": [
    {
     "name": "stdout",
     "output_type": "stream",
     "text": [
      "Accuracy Score  :  1.0\n",
      "Precision Score :  1.0\n",
      "Recall Score    :  1.0\n",
      "f1-Score        :  1.0\n"
     ]
    }
   ],
   "source": [
    "print('Accuracy Score  : ', accuracy_d)\n",
    "print('Precision Score : ', precision_d)\n",
    "print('Recall Score    : ', recall_d)\n",
    "print('f1-Score        : ', f1_d)"
   ]
  },
  {
   "cell_type": "markdown",
   "id": "c0e6ba18",
   "metadata": {},
   "source": [
    "#### <font color='green'><b> Random Forest Classifier :"
   ]
  },
  {
   "cell_type": "code",
   "execution_count": 162,
   "id": "122722d3",
   "metadata": {},
   "outputs": [],
   "source": [
    "rf = RandomForestClassifier()\n",
    "rf.fit(x_train_tf,y_train)\n",
    "predict_r = rf.predict(x_test_tf)"
   ]
  },
  {
   "cell_type": "code",
   "execution_count": 163,
   "id": "025d7bf7",
   "metadata": {},
   "outputs": [
    {
     "data": {
      "text/plain": [
       "1.0"
      ]
     },
     "execution_count": 163,
     "metadata": {},
     "output_type": "execute_result"
    }
   ],
   "source": [
    "accuracy_r = accuracy_score(y_test,predict_r)\n",
    "accuracy_r"
   ]
  },
  {
   "cell_type": "code",
   "execution_count": 164,
   "id": "0d8d4581",
   "metadata": {},
   "outputs": [
    {
     "data": {
      "text/plain": [
       "array([[4, 0, 0, 0],\n",
       "       [0, 5, 0, 0],\n",
       "       [0, 0, 3, 0],\n",
       "       [0, 0, 0, 4]], dtype=int64)"
      ]
     },
     "execution_count": 164,
     "metadata": {},
     "output_type": "execute_result"
    }
   ],
   "source": [
    "cm_r = confusion_matrix(y_test,predict_r)\n",
    "cm_r"
   ]
  },
  {
   "cell_type": "code",
   "execution_count": 165,
   "id": "c7b309bb",
   "metadata": {},
   "outputs": [
    {
     "data": {
      "image/png": "[encoded data removed]",
      "text/plain": [
       "<Figure size 432x288 with 2 Axes>"
      ]
     },
     "metadata": {
      "needs_background": "light"
     },
     "output_type": "display_data"
    }
   ],
   "source": [
    "ConfusionMatrixDisplay.from_predictions(y_test,predict_r,xticks_rotation='vertical')\n",
    "plt.grid(False);"
   ]
  },
  {
   "cell_type": "code",
   "execution_count": 166,
   "id": "dc209287",
   "metadata": {},
   "outputs": [
    {
     "name": "stdout",
     "output_type": "stream",
     "text": [
      "                   precision    recall  f1-score   support\n",
      "\n",
      "       Peoplesoft       1.00      1.00      1.00         4\n",
      "ReactJS Developer       1.00      1.00      1.00         5\n",
      "    SQL Developer       1.00      1.00      1.00         3\n",
      "          Workday       1.00      1.00      1.00         4\n",
      "\n",
      "         accuracy                           1.00        16\n",
      "        macro avg       1.00      1.00      1.00        16\n",
      "     weighted avg       1.00      1.00      1.00        16\n",
      "\n"
     ]
    }
   ],
   "source": [
    "print(classification_report(y_test,predict_r))"
   ]
  },
  {
   "cell_type": "code",
   "execution_count": 167,
   "id": "a4d47b70",
   "metadata": {},
   "outputs": [],
   "source": [
    "accuracy_r = round(accuracy_score(y_test,predict_r),4)\n",
    "precision_r = round(precision_score(y_test,predict_r,average = 'macro'),4)\n",
    "recall_r = round(recall_score(y_test,predict_r, average = 'macro'),4)\n",
    "f1_r = round(f1_score(y_test,predict_r, average = 'macro'),4)"
   ]
  },
  {
   "cell_type": "code",
   "execution_count": 168,
   "id": "7a7a8c30",
   "metadata": {
    "scrolled": true
   },
   "outputs": [
    {
     "name": "stdout",
     "output_type": "stream",
     "text": [
      "Accuracy Score  :  1.0\n",
      "Precision Score :  1.0\n",
      "Recall Score    :  1.0\n",
      "f1-Score        :  1.0\n"
     ]
    }
   ],
   "source": [
    "print('Accuracy Score  : ', accuracy_r)\n",
    "print('Precision Score : ', precision_r)\n",
    "print('Recall Score    : ', recall_r)\n",
    "print('f1-Score        : ', f1_r)"
   ]
  },
  {
   "cell_type": "markdown",
   "id": "6f8a1ce9",
   "metadata": {},
   "source": [
    "#### <font color='green'><b>AdaBoost Classifier :"
   ]
  },
  {
   "cell_type": "code",
   "execution_count": 169,
   "id": "01a18ae4",
   "metadata": {},
   "outputs": [],
   "source": [
    "ab = AdaBoostClassifier()\n",
    "ab.fit(x_train_tf,y_train)\n",
    "predict_a = ab.predict(x_test_tf)"
   ]
  },
  {
   "cell_type": "code",
   "execution_count": 170,
   "id": "d9dee8fa",
   "metadata": {},
   "outputs": [
    {
     "data": {
      "text/plain": [
       "0.5625"
      ]
     },
     "execution_count": 170,
     "metadata": {},
     "output_type": "execute_result"
    }
   ],
   "source": [
    "accuracy_a = accuracy_score(y_test,predict_a)\n",
    "accuracy_a"
   ]
  },
  {
   "cell_type": "code",
   "execution_count": 171,
   "id": "b411fce3",
   "metadata": {},
   "outputs": [
    {
     "data": {
      "text/plain": [
       "array([[0, 0, 0, 0, 0],\n",
       "       [0, 0, 4, 0, 0],\n",
       "       [3, 0, 2, 0, 0],\n",
       "       [0, 0, 0, 3, 0],\n",
       "       [0, 0, 0, 0, 4]], dtype=int64)"
      ]
     },
     "execution_count": 171,
     "metadata": {},
     "output_type": "execute_result"
    }
   ],
   "source": [
    "cm_a = confusion_matrix(y_test,predict_a)\n",
    "cm_a"
   ]
  },
  {
   "cell_type": "code",
   "execution_count": 172,
   "id": "efb6068d",
   "metadata": {},
   "outputs": [
    {
     "data": {
      "image/png": "[encoded data removed]",
      "text/plain": [
       "<Figure size 432x288 with 2 Axes>"
      ]
     },
     "metadata": {
      "needs_background": "light"
     },
     "output_type": "display_data"
    }
   ],
   "source": [
    "ConfusionMatrixDisplay.from_predictions(y_test,predict_a,xticks_rotation='vertical')\n",
    "plt.grid(False);"
   ]
  },
  {
   "cell_type": "code",
   "execution_count": 173,
   "id": "d3ecc2b2",
   "metadata": {},
   "outputs": [
    {
     "name": "stdout",
     "output_type": "stream",
     "text": [
      "                   precision    recall  f1-score   support\n",
      "\n",
      "       Internship       0.00      0.00      0.00         0\n",
      "       Peoplesoft       0.00      0.00      0.00         4\n",
      "ReactJS Developer       0.33      0.40      0.36         5\n",
      "    SQL Developer       1.00      1.00      1.00         3\n",
      "          Workday       1.00      1.00      1.00         4\n",
      "\n",
      "         accuracy                           0.56        16\n",
      "        macro avg       0.47      0.48      0.47        16\n",
      "     weighted avg       0.54      0.56      0.55        16\n",
      "\n"
     ]
    }
   ],
   "source": [
    "print(classification_report(y_test,predict_a))"
   ]
  },
  {
   "cell_type": "code",
   "execution_count": 174,
   "id": "aaff40b1",
   "metadata": {},
   "outputs": [],
   "source": [
    "accuracy_a = round(accuracy_score(y_test,predict_a),4)\n",
    "precision_a = round(precision_score(y_test,predict_a,average = 'macro'),4)\n",
    "recall_a = round(recall_score(y_test,predict_a, average = 'macro'),4)\n",
    "f1_a = round(f1_score(y_test,predict_a, average = 'macro'),4)"
   ]
  },
  {
   "cell_type": "code",
   "execution_count": 175,
   "id": "cd6adc51",
   "metadata": {},
   "outputs": [
    {
     "name": "stdout",
     "output_type": "stream",
     "text": [
      "Accuracy Score  :  0.5625\n",
      "Precision Score :  0.4667\n",
      "Recall Score    :  0.48\n",
      "f1-Score        :  0.4727\n"
     ]
    }
   ],
   "source": [
    "print('Accuracy Score  : ', accuracy_a)\n",
    "print('Precision Score : ', precision_a)\n",
    "print('Recall Score    : ', recall_a)\n",
    "print('f1-Score        : ', f1_a)"
   ]
  },
  {
   "cell_type": "markdown",
   "id": "176e9482",
   "metadata": {},
   "source": [
    "#### <font color='green'><b>GradientBoosting Classifier :"
   ]
  },
  {
   "cell_type": "code",
   "execution_count": 176,
   "id": "4fb54005",
   "metadata": {},
   "outputs": [],
   "source": [
    "gd = GradientBoostingClassifier()\n",
    "gd.fit(x_train_tf,y_train)\n",
    "predict_g = gd.predict(x_test_tf)"
   ]
  },
  {
   "cell_type": "code",
   "execution_count": 177,
   "id": "e45814ca",
   "metadata": {},
   "outputs": [
    {
     "data": {
      "text/plain": [
       "0.8125"
      ]
     },
     "execution_count": 177,
     "metadata": {},
     "output_type": "execute_result"
    }
   ],
   "source": [
    "accuracy_g = accuracy_score(y_test,predict_g)\n",
    "accuracy_g"
   ]
  },
  {
   "cell_type": "code",
   "execution_count": 178,
   "id": "870beec0",
   "metadata": {},
   "outputs": [
    {
     "data": {
      "text/plain": [
       "array([[0, 0, 0, 0, 0],\n",
       "       [0, 4, 0, 0, 0],\n",
       "       [3, 0, 2, 0, 0],\n",
       "       [0, 0, 0, 3, 0],\n",
       "       [0, 0, 0, 0, 4]], dtype=int64)"
      ]
     },
     "execution_count": 178,
     "metadata": {},
     "output_type": "execute_result"
    }
   ],
   "source": [
    "cm_g = confusion_matrix(y_test,predict_g)\n",
    "cm_g"
   ]
  },
  {
   "cell_type": "code",
   "execution_count": 179,
   "id": "84b1d193",
   "metadata": {},
   "outputs": [
    {
     "data": {
      "image/png": "[encoded data removed]",
      "text/plain": [
       "<Figure size 432x288 with 2 Axes>"
      ]
     },
     "metadata": {
      "needs_background": "light"
     },
     "output_type": "display_data"
    }
   ],
   "source": [
    "ConfusionMatrixDisplay.from_predictions(y_test,predict_g,xticks_rotation='vertical')\n",
    "plt.grid(False);"
   ]
  },
  {
   "cell_type": "code",
   "execution_count": 180,
   "id": "279e68cb",
   "metadata": {},
   "outputs": [
    {
     "name": "stdout",
     "output_type": "stream",
     "text": [
      "                   precision    recall  f1-score   support\n",
      "\n",
      "       Internship       0.00      0.00      0.00         0\n",
      "       Peoplesoft       1.00      1.00      1.00         4\n",
      "ReactJS Developer       1.00      0.40      0.57         5\n",
      "    SQL Developer       1.00      1.00      1.00         3\n",
      "          Workday       1.00      1.00      1.00         4\n",
      "\n",
      "         accuracy                           0.81        16\n",
      "        macro avg       0.80      0.68      0.71        16\n",
      "     weighted avg       1.00      0.81      0.87        16\n",
      "\n"
     ]
    }
   ],
   "source": [
    "print(classification_report(y_test,predict_g))"
   ]
  },
  {
   "cell_type": "code",
   "execution_count": 181,
   "id": "e3702dfc",
   "metadata": {},
   "outputs": [],
   "source": [
    "accuracy_g = round(accuracy_score(y_test,predict_g),4)\n",
    "precision_g = round(precision_score(y_test,predict_g,average = 'macro'),4)\n",
    "recall_g = round(recall_score(y_test,predict_g, average = 'macro'),4)\n",
    "f1_g = round(f1_score(y_test,predict_g, average = 'macro'),4)"
   ]
  },
  {
   "cell_type": "code",
   "execution_count": 182,
   "id": "e2afcf26",
   "metadata": {},
   "outputs": [
    {
     "name": "stdout",
     "output_type": "stream",
     "text": [
      "Accuracy Score  :  0.8125\n",
      "Precision Score :  0.8\n",
      "Recall Score    :  0.68\n",
      "f1-Score        :  0.7143\n"
     ]
    }
   ],
   "source": [
    "print('Accuracy Score  : ', accuracy_g)\n",
    "print('Precision Score : ', precision_g)\n",
    "print('Recall Score    : ', recall_g)\n",
    "print('f1-Score        : ', f1_g)"
   ]
  },
  {
   "cell_type": "markdown",
   "id": "b5a7f4fa",
   "metadata": {},
   "source": [
    "#### <font color='green'><b>XGBoost Classifier :"
   ]
  },
  {
   "cell_type": "code",
   "execution_count": 184,
   "id": "ace8b80e",
   "metadata": {},
   "outputs": [],
   "source": [
    "le = LabelEncoder()"
   ]
  },
  {
   "cell_type": "code",
   "execution_count": 185,
   "id": "6a95ea6a",
   "metadata": {},
   "outputs": [
    {
     "data": {
      "text/html": [
       "<div>\n",
       "<style scoped>\n",
       "    .dataframe tbody tr th:only-of-type {\n",
       "        vertical-align: middle;\n",
       "    }\n",
       "\n",
       "    .dataframe tbody tr th {\n",
       "        vertical-align: top;\n",
       "    }\n",
       "\n",
       "    .dataframe thead th {\n",
       "        text-align: right;\n",
       "    }\n",
       "</style>\n",
       "<table border=\"1\" class=\"dataframe\">\n",
       "  <thead>\n",
       "    <tr style=\"text-align: right;\">\n",
       "      <th></th>\n",
       "      <th>clean_text</th>\n",
       "      <th>category</th>\n",
       "    </tr>\n",
       "  </thead>\n",
       "  <tbody>\n",
       "    <tr>\n",
       "      <th>0</th>\n",
       "      <td>name ravali p curriculum vitae specialization ...</td>\n",
       "      <td>0</td>\n",
       "    </tr>\n",
       "    <tr>\n",
       "      <th>1</th>\n",
       "      <td>susovan bag seeking challenging position field...</td>\n",
       "      <td>0</td>\n",
       "    </tr>\n",
       "    <tr>\n",
       "      <th>2</th>\n",
       "      <td>kanumuru deepak reddycareer objectiveto secure...</td>\n",
       "      <td>2</td>\n",
       "    </tr>\n",
       "    <tr>\n",
       "      <th>3</th>\n",
       "      <td>haripriya battina experience ui developer reac...</td>\n",
       "      <td>2</td>\n",
       "    </tr>\n",
       "    <tr>\n",
       "      <th>4</th>\n",
       "      <td>kamalakar reddy linked professional summary 3 ...</td>\n",
       "      <td>2</td>\n",
       "    </tr>\n",
       "  </tbody>\n",
       "</table>\n",
       "</div>"
      ],
      "text/plain": [
       "                                          clean_text  category\n",
       "0  name ravali p curriculum vitae specialization ...         0\n",
       "1  susovan bag seeking challenging position field...         0\n",
       "2  kanumuru deepak reddycareer objectiveto secure...         2\n",
       "3  haripriya battina experience ui developer reac...         2\n",
       "4  kamalakar reddy linked professional summary 3 ...         2"
      ]
     },
     "execution_count": 185,
     "metadata": {},
     "output_type": "execute_result"
    }
   ],
   "source": [
    "df_xg = df.copy()\n",
    "df_xg['category']=le.fit_transform(df_xg['category'])\n",
    "df_xg.head()"
   ]
  },
  {
   "cell_type": "code",
   "execution_count": 186,
   "id": "73aa451e",
   "metadata": {},
   "outputs": [
    {
     "data": {
      "text/plain": [
       "2    22\n",
       "4    21\n",
       "1    20\n",
       "3    14\n",
       "0     2\n",
       "Name: category, dtype: int64"
      ]
     },
     "execution_count": 186,
     "metadata": {},
     "output_type": "execute_result"
    }
   ],
   "source": [
    "df_xg['category'].value_counts()"
   ]
  },
  {
   "cell_type": "code",
   "execution_count": 187,
   "id": "559615c5",
   "metadata": {},
   "outputs": [],
   "source": [
    "x_xg = df_xg['clean_text'].values \n",
    "y_xg = df_xg['category'].values"
   ]
  },
  {
   "cell_type": "code",
   "execution_count": 188,
   "id": "c39a8cd5",
   "metadata": {},
   "outputs": [],
   "source": [
    "x_train_xg,x_test_xg,y_train_xg,y_test_xg = train_test_split(x_xg,y_xg,test_size=0.2,random_state=0,shuffle=True)"
   ]
  },
  {
   "cell_type": "code",
   "execution_count": 189,
   "id": "fff8d68b",
   "metadata": {},
   "outputs": [],
   "source": [
    "xg = XGBClassifier()\n",
    "xg.fit(x_train_tf,y_train_xg)\n",
    "predict_x = xg.predict(x_test_tf)"
   ]
  },
  {
   "cell_type": "code",
   "execution_count": 190,
   "id": "5870c0f1",
   "metadata": {},
   "outputs": [
    {
     "data": {
      "text/plain": [
       "0.375"
      ]
     },
     "execution_count": 190,
     "metadata": {},
     "output_type": "execute_result"
    }
   ],
   "source": [
    "accuracy_x = accuracy_score(y_test_xg,predict_x)\n",
    "accuracy_x"
   ]
  },
  {
   "cell_type": "code",
   "execution_count": 191,
   "id": "2f262a15",
   "metadata": {},
   "outputs": [
    {
     "data": {
      "text/plain": [
       "array([[2, 3, 0, 0],\n",
       "       [1, 0, 0, 0],\n",
       "       [2, 0, 1, 0],\n",
       "       [0, 4, 0, 3]], dtype=int64)"
      ]
     },
     "execution_count": 191,
     "metadata": {},
     "output_type": "execute_result"
    }
   ],
   "source": [
    "cm_x = confusion_matrix(y_test_xg,predict_x)\n",
    "cm_x"
   ]
  },
  {
   "cell_type": "code",
   "execution_count": 192,
   "id": "83ef6554",
   "metadata": {},
   "outputs": [
    {
     "data": {
      "image/png": "[encoded data removed]",
      "text/plain": [
       "<Figure size 432x288 with 2 Axes>"
      ]
     },
     "metadata": {
      "needs_background": "light"
     },
     "output_type": "display_data"
    }
   ],
   "source": [
    "ConfusionMatrixDisplay.from_predictions(y_test_xg,predict_x)\n",
    "plt.grid(False);"
   ]
  },
  {
   "cell_type": "code",
   "execution_count": 193,
   "id": "95a13880",
   "metadata": {},
   "outputs": [
    {
     "name": "stdout",
     "output_type": "stream",
     "text": [
      "              precision    recall  f1-score   support\n",
      "\n",
      "           1       0.40      0.40      0.40         5\n",
      "           2       0.00      0.00      0.00         1\n",
      "           3       1.00      0.33      0.50         3\n",
      "           4       1.00      0.43      0.60         7\n",
      "\n",
      "    accuracy                           0.38        16\n",
      "   macro avg       0.60      0.29      0.38        16\n",
      "weighted avg       0.75      0.38      0.48        16\n",
      "\n"
     ]
    }
   ],
   "source": [
    "print(classification_report(y_test_xg,predict_x))"
   ]
  },
  {
   "cell_type": "code",
   "execution_count": 194,
   "id": "32bf8056",
   "metadata": {},
   "outputs": [],
   "source": [
    "accuracy_x = round(accuracy_score(y_test_xg,predict_x),4)\n",
    "precision_x = round(precision_score(y_test_xg,predict_x,average = 'macro'),4)\n",
    "recall_x = round(recall_score(y_test_xg,predict_x, average = 'macro'),4)\n",
    "f1_x = round(f1_score(y_test_xg,predict_x, average = 'macro'),4)"
   ]
  },
  {
   "cell_type": "code",
   "execution_count": 195,
   "id": "36caf3b9",
   "metadata": {},
   "outputs": [
    {
     "name": "stdout",
     "output_type": "stream",
     "text": [
      "Accuracy Score  :  0.375\n",
      "Precision Score :  0.6\n",
      "Recall Score    :  0.2905\n",
      "f1-Score        :  0.375\n"
     ]
    }
   ],
   "source": [
    "print('Accuracy Score  : ', accuracy_x)\n",
    "print('Precision Score : ', precision_x)\n",
    "print('Recall Score    : ', recall_x)\n",
    "print('f1-Score        : ', f1_x)"
   ]
  },
  {
   "cell_type": "markdown",
   "id": "eb7f0b48",
   "metadata": {},
   "source": [
    "#### <font color='green'><b>LGBM-Boosting Classifier :"
   ]
  },
  {
   "cell_type": "code",
   "execution_count": 196,
   "id": "1b018b00",
   "metadata": {},
   "outputs": [],
   "source": [
    "lgbm = LGBMClassifier()\n",
    "lgbm.fit(x_train_tf,y_train)\n",
    "predict_l = lgbm.predict(x_test_tf)"
   ]
  },
  {
   "cell_type": "code",
   "execution_count": 197,
   "id": "f7671298",
   "metadata": {},
   "outputs": [
    {
     "data": {
      "text/plain": [
       "0.8125"
      ]
     },
     "execution_count": 197,
     "metadata": {},
     "output_type": "execute_result"
    }
   ],
   "source": [
    "accuracy_l = accuracy_score(y_test,predict_l)\n",
    "accuracy_l"
   ]
  },
  {
   "cell_type": "code",
   "execution_count": 198,
   "id": "74c0b713",
   "metadata": {},
   "outputs": [
    {
     "data": {
      "text/plain": [
       "array([[0, 0, 0, 0, 0],\n",
       "       [0, 3, 0, 1, 0],\n",
       "       [2, 0, 3, 0, 0],\n",
       "       [0, 0, 0, 3, 0],\n",
       "       [0, 0, 0, 0, 4]], dtype=int64)"
      ]
     },
     "execution_count": 198,
     "metadata": {},
     "output_type": "execute_result"
    }
   ],
   "source": [
    "cm_l = confusion_matrix(y_test,predict_l)\n",
    "cm_l"
   ]
  },
  {
   "cell_type": "code",
   "execution_count": 199,
   "id": "cccb5e20",
   "metadata": {},
   "outputs": [
    {
     "data": {
      "image/png": "[encoded data removed]",
      "text/plain": [
       "<Figure size 432x288 with 2 Axes>"
      ]
     },
     "metadata": {
      "needs_background": "light"
     },
     "output_type": "display_data"
    }
   ],
   "source": [
    "ConfusionMatrixDisplay.from_predictions(y_test,predict_l,xticks_rotation='vertical')\n",
    "plt.grid(False);"
   ]
  },
  {
   "cell_type": "code",
   "execution_count": 200,
   "id": "553524c2",
   "metadata": {},
   "outputs": [
    {
     "name": "stdout",
     "output_type": "stream",
     "text": [
      "                   precision    recall  f1-score   support\n",
      "\n",
      "       Internship       0.00      0.00      0.00         0\n",
      "       Peoplesoft       1.00      0.75      0.86         4\n",
      "ReactJS Developer       1.00      0.60      0.75         5\n",
      "    SQL Developer       0.75      1.00      0.86         3\n",
      "          Workday       1.00      1.00      1.00         4\n",
      "\n",
      "         accuracy                           0.81        16\n",
      "        macro avg       0.75      0.67      0.69        16\n",
      "     weighted avg       0.95      0.81      0.86        16\n",
      "\n"
     ]
    }
   ],
   "source": [
    "print(classification_report(y_test,predict_l))"
   ]
  },
  {
   "cell_type": "code",
   "execution_count": 201,
   "id": "f15379dd",
   "metadata": {},
   "outputs": [],
   "source": [
    "accuracy_l = round(accuracy_score(y_test,predict_l),4)\n",
    "precision_l = round(precision_score(y_test,predict_l,average = 'macro'),4)\n",
    "recall_l = round(recall_score(y_test,predict_l, average = 'macro'),4)\n",
    "f1_l = round(f1_score(y_test,predict_l, average = 'macro'),4)"
   ]
  },
  {
   "cell_type": "code",
   "execution_count": 202,
   "id": "d121f2b1",
   "metadata": {},
   "outputs": [
    {
     "name": "stdout",
     "output_type": "stream",
     "text": [
      "Accuracy Score  :  0.8125\n",
      "Precision Score :  0.75\n",
      "Recall Score    :  0.67\n",
      "f1-Score        :  0.6929\n"
     ]
    }
   ],
   "source": [
    "print('Accuracy Score  : ', accuracy_l)\n",
    "print('Precision Score : ', precision_l)\n",
    "print('Recall Score    : ', recall_l)\n",
    "print('f1-Score        : ', f1_l)"
   ]
  },
  {
   "cell_type": "markdown",
   "id": "87e85115",
   "metadata": {},
   "source": [
    "#### <font color='purple'><b>Comparison of Other Classifiers :"
   ]
  },
  {
   "cell_type": "code",
   "execution_count": 211,
   "id": "dc37fe63",
   "metadata": {},
   "outputs": [
    {
     "data": {
      "text/html": [
       "<div>\n",
       "<style scoped>\n",
       "    .dataframe tbody tr th:only-of-type {\n",
       "        vertical-align: middle;\n",
       "    }\n",
       "\n",
       "    .dataframe tbody tr th {\n",
       "        vertical-align: top;\n",
       "    }\n",
       "\n",
       "    .dataframe thead th {\n",
       "        text-align: right;\n",
       "    }\n",
       "</style>\n",
       "<table border=\"1\" class=\"dataframe\">\n",
       "  <thead>\n",
       "    <tr style=\"text-align: right;\">\n",
       "      <th></th>\n",
       "      <th>Classifier</th>\n",
       "      <th>Accuracy</th>\n",
       "      <th>Precision Score</th>\n",
       "      <th>Recall Score</th>\n",
       "      <th>F1_Score</th>\n",
       "    </tr>\n",
       "  </thead>\n",
       "  <tbody>\n",
       "    <tr>\n",
       "      <th>0</th>\n",
       "      <td>Random Forest Classifier</td>\n",
       "      <td>1.0000</td>\n",
       "      <td>1.0000</td>\n",
       "      <td>1.0000</td>\n",
       "      <td>1.0000</td>\n",
       "    </tr>\n",
       "    <tr>\n",
       "      <th>1</th>\n",
       "      <td>Decision Tree Classifier</td>\n",
       "      <td>1.0000</td>\n",
       "      <td>1.0000</td>\n",
       "      <td>1.0000</td>\n",
       "      <td>1.0000</td>\n",
       "    </tr>\n",
       "    <tr>\n",
       "      <th>2</th>\n",
       "      <td>Gradient Boosting Classifier</td>\n",
       "      <td>0.8125</td>\n",
       "      <td>0.8000</td>\n",
       "      <td>0.6800</td>\n",
       "      <td>0.7143</td>\n",
       "    </tr>\n",
       "    <tr>\n",
       "      <th>3</th>\n",
       "      <td>Light Gradient Boosting Classifier</td>\n",
       "      <td>0.8125</td>\n",
       "      <td>0.7500</td>\n",
       "      <td>0.6700</td>\n",
       "      <td>0.6929</td>\n",
       "    </tr>\n",
       "    <tr>\n",
       "      <th>4</th>\n",
       "      <td>AdaBoost Classifier</td>\n",
       "      <td>0.5625</td>\n",
       "      <td>0.4667</td>\n",
       "      <td>0.4800</td>\n",
       "      <td>0.4727</td>\n",
       "    </tr>\n",
       "    <tr>\n",
       "      <th>5</th>\n",
       "      <td>Xtreme Gradient Boosting Classifier</td>\n",
       "      <td>0.3750</td>\n",
       "      <td>0.6000</td>\n",
       "      <td>0.2905</td>\n",
       "      <td>0.3750</td>\n",
       "    </tr>\n",
       "  </tbody>\n",
       "</table>\n",
       "</div>"
      ],
      "text/plain": [
       "                            Classifier  Accuracy  Precision Score  \\\n",
       "0             Random Forest Classifier    1.0000           1.0000   \n",
       "1             Decision Tree Classifier    1.0000           1.0000   \n",
       "2         Gradient Boosting Classifier    0.8125           0.8000   \n",
       "3   Light Gradient Boosting Classifier    0.8125           0.7500   \n",
       "4                  AdaBoost Classifier    0.5625           0.4667   \n",
       "5  Xtreme Gradient Boosting Classifier    0.3750           0.6000   \n",
       "\n",
       "   Recall Score  F1_Score  \n",
       "0        1.0000    1.0000  \n",
       "1        1.0000    1.0000  \n",
       "2        0.6800    0.7143  \n",
       "3        0.6700    0.6929  \n",
       "4        0.4800    0.4727  \n",
       "5        0.2905    0.3750  "
      ]
     },
     "execution_count": 211,
     "metadata": {},
     "output_type": "execute_result"
    }
   ],
   "source": [
    "table2 = {'Classifier' : ['Random Forest Classifier','Decision Tree Classifier','AdaBoost Classifier', \n",
    "                         'Gradient Boosting Classifier','Xtreme Gradient Boosting Classifier', \n",
    "                         'Light Gradient Boosting Classifier'], \n",
    "         'Accuracy' : [accuracy_r, accuracy_d, accuracy_a, accuracy_g, accuracy_x, accuracy_l], \n",
    "         'Precision Score' : [precision_r,precision_d, precision_a, precision_g, precision_x, precision_l], \n",
    "         'Recall Score' : [recall_r, recall_d,recall_a, recall_g, recall_x, recall_l], \n",
    "         'F1_Score' : [f1_r,f1_d, f1_a, f1_g, f1_x, f1_l]}\n",
    "table2 = pd.DataFrame(table2)\n",
    "table2.sort_values([\"Accuracy\"],ascending=False,inplace = True, ignore_index=True)\n",
    "table2"
   ]
  },
  {
   "cell_type": "code",
   "execution_count": 213,
   "id": "f1d3e1d4",
   "metadata": {},
   "outputs": [
    {
     "data": {
      "image/png": "[encoded data removed]",
      "text/plain": [
       "<Figure size 1008x864 with 1 Axes>"
      ]
     },
     "metadata": {
      "needs_background": "light"
     },
     "output_type": "display_data"
    }
   ],
   "source": [
    "plt.figure(figsize=(14,12))\n",
    "ax = sns.barplot(data=table2,x='Accuracy',y='Classifier',palette='flare',ci=None)\n",
    "plt.yticks(fontsize=20,fontweight='bold');\n",
    "for i in ax.containers:\n",
    "    ax.bar_label(i,fontsize=18)"
   ]
  },
  {
   "cell_type": "markdown",
   "id": "0f6f02ff",
   "metadata": {},
   "source": [
    "### <font color='magenta'><b>Saving the best model :"
   ]
  },
  {
   "cell_type": "markdown",
   "id": "394ead63",
   "metadata": {},
   "source": [
    "#### <font color='hotpink'><b><I>Support Vector Machine Classifier :"
   ]
  },
  {
   "cell_type": "code",
   "execution_count": 218,
   "id": "81c1bb02",
   "metadata": {},
   "outputs": [],
   "source": [
    "filename = 'F:\\model_svm.pkl'"
   ]
  },
  {
   "cell_type": "code",
   "execution_count": 219,
   "id": "991570e2",
   "metadata": {},
   "outputs": [],
   "source": [
    "pickle.dump(clf,open(filename,'wb'))"
   ]
  },
  {
   "cell_type": "code",
   "execution_count": null,
   "id": "8978fa2a",
   "metadata": {},
   "outputs": [],
   "source": []
  }
 ],
 "metadata": {
  "kernelspec": {
   "display_name": "Python 3 (ipykernel)",
   "language": "python",
   "name": "python3"
  },
  "language_info": {
   "codemirror_mode": {
    "name": "ipython",
    "version": 3
   },
   "file_extension": ".py",
   "mimetype": "text/x-python",
   "name": "python",
   "nbconvert_exporter": "python",
   "pygments_lexer": "ipython3",
   "version": "3.9.12"
  }
 },
 "nbformat": 4,
 "nbformat_minor": 5
}
